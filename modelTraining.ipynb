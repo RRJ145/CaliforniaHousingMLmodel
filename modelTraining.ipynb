{
 "cells": [
  {
   "cell_type": "markdown",
   "id": "079ac803-b351-4edc-9732-e7fce9bf38c3",
   "metadata": {},
   "source": [
    "### Importing the necessary modules"
   ]
  },
  {
   "cell_type": "code",
   "execution_count": 1,
   "id": "6edcdf50-cead-4b38-83c1-3dc67e4a1b8a",
   "metadata": {},
   "outputs": [],
   "source": [
    "import numpy as np\n",
    "import pandas as pd\n",
    "from sklearn.datasets import fetch_california_housing\n",
    "from sklearn.model_selection import train_test_split, cross_val_score, GridSearchCV\n",
    "from sklearn.preprocessing import StandardScaler\n",
    "from sklearn.linear_model import LinearRegression\n",
    "from sklearn.tree import DecisionTreeRegressor\n",
    "from sklearn.svm import SVR\n",
    "from sklearn.metrics import mean_squared_error, r2_score"
   ]
  },
  {
   "cell_type": "code",
   "execution_count": 2,
   "id": "c2295c43-f1da-4456-8548-5c3c35b2c3a4",
   "metadata": {
    "scrolled": true
   },
   "outputs": [
    {
     "data": {
      "text/plain": [
       "{'data': array([[   8.3252    ,   41.        ,    6.98412698, ...,    2.55555556,\n",
       "           37.88      , -122.23      ],\n",
       "        [   8.3014    ,   21.        ,    6.23813708, ...,    2.10984183,\n",
       "           37.86      , -122.22      ],\n",
       "        [   7.2574    ,   52.        ,    8.28813559, ...,    2.80225989,\n",
       "           37.85      , -122.24      ],\n",
       "        ...,\n",
       "        [   1.7       ,   17.        ,    5.20554273, ...,    2.3256351 ,\n",
       "           39.43      , -121.22      ],\n",
       "        [   1.8672    ,   18.        ,    5.32951289, ...,    2.12320917,\n",
       "           39.43      , -121.32      ],\n",
       "        [   2.3886    ,   16.        ,    5.25471698, ...,    2.61698113,\n",
       "           39.37      , -121.24      ]]),\n",
       " 'target': array([4.526, 3.585, 3.521, ..., 0.923, 0.847, 0.894]),\n",
       " 'frame': None,\n",
       " 'target_names': ['MedHouseVal'],\n",
       " 'feature_names': ['MedInc',\n",
       "  'HouseAge',\n",
       "  'AveRooms',\n",
       "  'AveBedrms',\n",
       "  'Population',\n",
       "  'AveOccup',\n",
       "  'Latitude',\n",
       "  'Longitude'],\n",
       " 'DESCR': '.. _california_housing_dataset:\\n\\nCalifornia Housing dataset\\n--------------------------\\n\\n**Data Set Characteristics:**\\n\\n    :Number of Instances: 20640\\n\\n    :Number of Attributes: 8 numeric, predictive attributes and the target\\n\\n    :Attribute Information:\\n        - MedInc        median income in block group\\n        - HouseAge      median house age in block group\\n        - AveRooms      average number of rooms per household\\n        - AveBedrms     average number of bedrooms per household\\n        - Population    block group population\\n        - AveOccup      average number of household members\\n        - Latitude      block group latitude\\n        - Longitude     block group longitude\\n\\n    :Missing Attribute Values: None\\n\\nThis dataset was obtained from the StatLib repository.\\nhttps://www.dcc.fc.up.pt/~ltorgo/Regression/cal_housing.html\\n\\nThe target variable is the median house value for California districts,\\nexpressed in hundreds of thousands of dollars ($100,000).\\n\\nThis dataset was derived from the 1990 U.S. census, using one row per census\\nblock group. A block group is the smallest geographical unit for which the U.S.\\nCensus Bureau publishes sample data (a block group typically has a population\\nof 600 to 3,000 people).\\n\\nA household is a group of people residing within a home. Since the average\\nnumber of rooms and bedrooms in this dataset are provided per household, these\\ncolumns may take surprisingly large values for block groups with few households\\nand many empty houses, such as vacation resorts.\\n\\nIt can be downloaded/loaded using the\\n:func:`sklearn.datasets.fetch_california_housing` function.\\n\\n.. topic:: References\\n\\n    - Pace, R. Kelley and Ronald Barry, Sparse Spatial Autoregressions,\\n      Statistics and Probability Letters, 33 (1997) 291-297\\n'}"
      ]
     },
     "execution_count": 2,
     "metadata": {},
     "output_type": "execute_result"
    }
   ],
   "source": [
    "housing = fetch_california_housing()\n",
    "housing"
   ]
  },
  {
   "cell_type": "markdown",
   "id": "51ef077a-6127-4b3e-9088-257e3e719396",
   "metadata": {},
   "source": [
    "### Load the California housing dataset"
   ]
  },
  {
   "cell_type": "code",
   "execution_count": 3,
   "id": "c38391f9-316b-4f37-9c47-ec6ad7dcd4ce",
   "metadata": {},
   "outputs": [],
   "source": [
    "# housing = fetch_california_housing()\n",
    "X = pd.DataFrame(housing.data, columns=housing.feature_names)\n",
    "y = pd.Series(housing.target)"
   ]
  },
  {
   "cell_type": "markdown",
   "id": "138c29ad-a230-4fd3-940c-db950e219b48",
   "metadata": {},
   "source": [
    "### Split the dataset into training (80%) and testing (20%) sets"
   ]
  },
  {
   "cell_type": "code",
   "execution_count": 4,
   "id": "e4d60545-6627-4efd-9fc9-e5579690287a",
   "metadata": {},
   "outputs": [],
   "source": [
    "X_train, X_test, y_train, y_test = train_test_split(X, y, test_size=0.2, random_state=42)"
   ]
  },
  {
   "cell_type": "markdown",
   "id": "946191ae-e116-44b7-b9ef-5f9b985acd66",
   "metadata": {},
   "source": [
    "### Standardize the features"
   ]
  },
  {
   "cell_type": "code",
   "execution_count": 5,
   "id": "71c86f5f-fb59-4881-948d-9a44c3352006",
   "metadata": {},
   "outputs": [],
   "source": [
    "scaler = StandardScaler()\n",
    "X_train = scaler.fit_transform(X_train)\n",
    "X_test = scaler.transform(X_test)"
   ]
  },
  {
   "cell_type": "markdown",
   "id": "abbb355d-e96c-4d08-a6e9-e00a6e4c363d",
   "metadata": {},
   "source": [
    "### Initialize models"
   ]
  },
  {
   "cell_type": "code",
   "execution_count": 6,
   "id": "37cdad65-8de9-4581-928c-454be933e780",
   "metadata": {},
   "outputs": [],
   "source": [
    "models = {\n",
    "    'Linear Regression': LinearRegression(),\n",
    "    'Decision Tree (Squared Error)': DecisionTreeRegressor(criterion='squared_error', random_state=42),\n",
    "    'Decision Tree (Absolute Error)': DecisionTreeRegressor(criterion='absolute_error', random_state=42),\n",
    "    'SVM Regression': SVR()\n",
    "}"
   ]
  },
  {
   "cell_type": "markdown",
   "id": "d37cb934-cdd7-4e4d-9914-af6ba88983f2",
   "metadata": {},
   "source": [
    "### Train and evaluate each model"
   ]
  },
  {
   "cell_type": "code",
   "execution_count": 7,
   "id": "4d63719c-aba5-4276-8f88-8efbc3d40c4c",
   "metadata": {},
   "outputs": [
    {
     "name": "stdout",
     "output_type": "stream",
     "text": [
      "Linear Regression - MSE: 0.5559, R2 Score: 0.5758\n",
      "Decision Tree (Squared Error) - MSE: 0.4940, R2 Score: 0.6230\n",
      "Decision Tree (Absolute Error) - MSE: 0.5246, R2 Score: 0.5997\n",
      "SVM Regression - MSE: 0.3570, R2 Score: 0.7276\n"
     ]
    }
   ],
   "source": [
    "for name, model in models.items():\n",
    "    model.fit(X_train, y_train)\n",
    "    y_pred = model.predict(X_test)\n",
    "    mse = mean_squared_error(y_test, y_pred)\n",
    "    r2 = r2_score(y_test, y_pred)\n",
    "    print(f\"{name} - MSE: {mse:.4f}, R2 Score: {r2:.4f}\")"
   ]
  },
  {
   "cell_type": "markdown",
   "id": "597d5bdc-70f1-418f-825b-4d3494a601d7",
   "metadata": {},
   "source": [
    "### Hyperparameter tuning for SVM Regression"
   ]
  },
  {
   "cell_type": "code",
   "execution_count": 8,
   "id": "ec2cb8e2-2d21-4f41-a08f-d16744a57421",
   "metadata": {
    "scrolled": true
   },
   "outputs": [
    {
     "name": "stdout",
     "output_type": "stream",
     "text": [
      "Fitting 5 folds for each of 24 candidates, totalling 120 fits\n",
      "[CV] END ..................C=0.1, gamma=scale, kernel=linear; total time=   6.4s\n",
      "[CV] END ..................C=0.1, gamma=scale, kernel=linear; total time=   6.4s\n",
      "[CV] END ..................C=0.1, gamma=scale, kernel=linear; total time=   6.5s\n",
      "[CV] END ..................C=0.1, gamma=scale, kernel=linear; total time=  13.4s\n",
      "[CV] END ..................C=0.1, gamma=scale, kernel=linear; total time=  20.0s\n",
      "[CV] END .....................C=0.1, gamma=scale, kernel=rbf; total time=  30.1s\n",
      "[CV] END .....................C=0.1, gamma=scale, kernel=rbf; total time=  29.5s\n",
      "[CV] END .....................C=0.1, gamma=scale, kernel=rbf; total time=  29.5s\n",
      "[CV] END .....................C=0.1, gamma=scale, kernel=rbf; total time=  29.4s\n",
      "[CV] END .....................C=0.1, gamma=scale, kernel=rbf; total time=  30.3s\n",
      "[CV] END .................C=0.1, gamma=scale, kernel=sigmoid; total time=  38.1s\n",
      "[CV] END .................C=0.1, gamma=scale, kernel=sigmoid; total time=  38.7s\n",
      "[CV] END .................C=0.1, gamma=scale, kernel=sigmoid; total time=  38.0s\n",
      "[CV] END .................C=0.1, gamma=scale, kernel=sigmoid; total time=  38.9s\n",
      "[CV] END .................C=0.1, gamma=scale, kernel=sigmoid; total time=  38.1s\n",
      "[CV] END ...................C=0.1, gamma=auto, kernel=linear; total time=  10.7s\n",
      "[CV] END ...................C=0.1, gamma=auto, kernel=linear; total time=   8.3s\n",
      "[CV] END ...................C=0.1, gamma=auto, kernel=linear; total time=   8.2s\n",
      "[CV] END ...................C=0.1, gamma=auto, kernel=linear; total time=   8.4s\n",
      "[CV] END ...................C=0.1, gamma=auto, kernel=linear; total time=   8.5s\n",
      "[CV] END ......................C=0.1, gamma=auto, kernel=rbf; total time=  12.0s\n",
      "[CV] END ......................C=0.1, gamma=auto, kernel=rbf; total time=  11.9s\n",
      "[CV] END ......................C=0.1, gamma=auto, kernel=rbf; total time=  12.0s\n",
      "[CV] END ......................C=0.1, gamma=auto, kernel=rbf; total time=  11.8s\n",
      "[CV] END ......................C=0.1, gamma=auto, kernel=rbf; total time=  11.8s\n",
      "[CV] END ..................C=0.1, gamma=auto, kernel=sigmoid; total time=  16.0s\n",
      "[CV] END ..................C=0.1, gamma=auto, kernel=sigmoid; total time=  15.8s\n",
      "[CV] END ..................C=0.1, gamma=auto, kernel=sigmoid; total time=  16.1s\n",
      "[CV] END ..................C=0.1, gamma=auto, kernel=sigmoid; total time=  16.8s\n",
      "[CV] END ..................C=0.1, gamma=auto, kernel=sigmoid; total time=  17.2s\n",
      "[CV] END ....................C=1, gamma=scale, kernel=linear; total time=  17.5s\n",
      "[CV] END ....................C=1, gamma=scale, kernel=linear; total time=  17.2s\n",
      "[CV] END ....................C=1, gamma=scale, kernel=linear; total time=  16.5s\n",
      "[CV] END ....................C=1, gamma=scale, kernel=linear; total time=  17.9s\n",
      "[CV] END ....................C=1, gamma=scale, kernel=linear; total time=  17.2s\n",
      "[CV] END .......................C=1, gamma=scale, kernel=rbf; total time=  11.5s\n",
      "[CV] END .......................C=1, gamma=scale, kernel=rbf; total time=  11.8s\n",
      "[CV] END .......................C=1, gamma=scale, kernel=rbf; total time=  12.0s\n",
      "[CV] END .......................C=1, gamma=scale, kernel=rbf; total time=  11.9s\n",
      "[CV] END .......................C=1, gamma=scale, kernel=rbf; total time=  12.7s\n",
      "[CV] END ...................C=1, gamma=scale, kernel=sigmoid; total time=  18.2s\n",
      "[CV] END ...................C=1, gamma=scale, kernel=sigmoid; total time=  15.6s\n",
      "[CV] END ...................C=1, gamma=scale, kernel=sigmoid; total time=  15.2s\n",
      "[CV] END ...................C=1, gamma=scale, kernel=sigmoid; total time=  16.2s\n",
      "[CV] END ...................C=1, gamma=scale, kernel=sigmoid; total time=  16.6s\n",
      "[CV] END .....................C=1, gamma=auto, kernel=linear; total time=  16.5s\n",
      "[CV] END .....................C=1, gamma=auto, kernel=linear; total time=  19.1s\n",
      "[CV] END .....................C=1, gamma=auto, kernel=linear; total time=  20.6s\n",
      "[CV] END .....................C=1, gamma=auto, kernel=linear; total time=  18.4s\n",
      "[CV] END .....................C=1, gamma=auto, kernel=linear; total time=  17.8s\n",
      "[CV] END ........................C=1, gamma=auto, kernel=rbf; total time=  15.6s\n",
      "[CV] END ........................C=1, gamma=auto, kernel=rbf; total time=  13.4s\n",
      "[CV] END ........................C=1, gamma=auto, kernel=rbf; total time=  12.6s\n",
      "[CV] END ........................C=1, gamma=auto, kernel=rbf; total time=  12.6s\n",
      "[CV] END ........................C=1, gamma=auto, kernel=rbf; total time=  12.9s\n",
      "[CV] END ....................C=1, gamma=auto, kernel=sigmoid; total time=  18.3s\n",
      "[CV] END ....................C=1, gamma=auto, kernel=sigmoid; total time=  16.5s\n",
      "[CV] END ....................C=1, gamma=auto, kernel=sigmoid; total time=  16.4s\n",
      "[CV] END ....................C=1, gamma=auto, kernel=sigmoid; total time=  16.7s\n",
      "[CV] END ....................C=1, gamma=auto, kernel=sigmoid; total time=  19.8s\n",
      "[CV] END ...................C=10, gamma=scale, kernel=linear; total time= 1.5min\n",
      "[CV] END ...................C=10, gamma=scale, kernel=linear; total time= 1.5min\n",
      "[CV] END ...................C=10, gamma=scale, kernel=linear; total time= 1.4min\n",
      "[CV] END ...................C=10, gamma=scale, kernel=linear; total time= 1.5min\n",
      "[CV] END ...................C=10, gamma=scale, kernel=linear; total time= 1.4min\n",
      "[CV] END ......................C=10, gamma=scale, kernel=rbf; total time=  16.8s\n",
      "[CV] END ......................C=10, gamma=scale, kernel=rbf; total time=  17.9s\n",
      "[CV] END ......................C=10, gamma=scale, kernel=rbf; total time=  16.8s\n",
      "[CV] END ......................C=10, gamma=scale, kernel=rbf; total time=  16.3s\n",
      "[CV] END ......................C=10, gamma=scale, kernel=rbf; total time=  17.3s\n",
      "[CV] END ..................C=10, gamma=scale, kernel=sigmoid; total time=  17.4s\n",
      "[CV] END ..................C=10, gamma=scale, kernel=sigmoid; total time=  15.0s\n",
      "[CV] END ..................C=10, gamma=scale, kernel=sigmoid; total time=  15.0s\n",
      "[CV] END ..................C=10, gamma=scale, kernel=sigmoid; total time=  16.0s\n",
      "[CV] END ..................C=10, gamma=scale, kernel=sigmoid; total time=  15.9s\n",
      "[CV] END ....................C=10, gamma=auto, kernel=linear; total time= 1.5min\n",
      "[CV] END ....................C=10, gamma=auto, kernel=linear; total time= 1.5min\n",
      "[CV] END ....................C=10, gamma=auto, kernel=linear; total time= 1.4min\n",
      "[CV] END ....................C=10, gamma=auto, kernel=linear; total time= 1.5min\n",
      "[CV] END ....................C=10, gamma=auto, kernel=linear; total time= 1.4min\n",
      "[CV] END .......................C=10, gamma=auto, kernel=rbf; total time=  19.2s\n",
      "[CV] END .......................C=10, gamma=auto, kernel=rbf; total time=  19.0s\n",
      "[CV] END .......................C=10, gamma=auto, kernel=rbf; total time=  18.2s\n",
      "[CV] END .......................C=10, gamma=auto, kernel=rbf; total time=  19.9s\n",
      "[CV] END .......................C=10, gamma=auto, kernel=rbf; total time=  19.6s\n",
      "[CV] END ...................C=10, gamma=auto, kernel=sigmoid; total time=  17.9s\n",
      "[CV] END ...................C=10, gamma=auto, kernel=sigmoid; total time=  16.9s\n",
      "[CV] END ...................C=10, gamma=auto, kernel=sigmoid; total time=  17.2s\n",
      "[CV] END ...................C=10, gamma=auto, kernel=sigmoid; total time=  16.7s\n",
      "[CV] END ...................C=10, gamma=auto, kernel=sigmoid; total time=  17.3s\n",
      "[CV] END ..................C=100, gamma=scale, kernel=linear; total time=13.6min\n",
      "[CV] END ..................C=100, gamma=scale, kernel=linear; total time=12.4min\n",
      "[CV] END ..................C=100, gamma=scale, kernel=linear; total time=14.1min\n",
      "[CV] END ..................C=100, gamma=scale, kernel=linear; total time=11.5min\n",
      "[CV] END ..................C=100, gamma=scale, kernel=linear; total time=10.4min\n",
      "[CV] END .....................C=100, gamma=scale, kernel=rbf; total time= 1.1min\n",
      "[CV] END .....................C=100, gamma=scale, kernel=rbf; total time= 1.2min\n",
      "[CV] END .....................C=100, gamma=scale, kernel=rbf; total time= 1.3min\n",
      "[CV] END .....................C=100, gamma=scale, kernel=rbf; total time= 1.3min\n",
      "[CV] END .....................C=100, gamma=scale, kernel=rbf; total time= 1.1min\n",
      "[CV] END .................C=100, gamma=scale, kernel=sigmoid; total time=  14.6s\n",
      "[CV] END .................C=100, gamma=scale, kernel=sigmoid; total time=  15.8s\n",
      "[CV] END .................C=100, gamma=scale, kernel=sigmoid; total time=  14.6s\n",
      "[CV] END .................C=100, gamma=scale, kernel=sigmoid; total time=  14.8s\n",
      "[CV] END .................C=100, gamma=scale, kernel=sigmoid; total time=  15.0s\n",
      "[CV] END ...................C=100, gamma=auto, kernel=linear; total time=11.7min\n",
      "[CV] END ...................C=100, gamma=auto, kernel=linear; total time=10.3min\n",
      "[CV] END ...................C=100, gamma=auto, kernel=linear; total time=10.8min\n",
      "[CV] END ...................C=100, gamma=auto, kernel=linear; total time=10.3min\n",
      "[CV] END ...................C=100, gamma=auto, kernel=linear; total time= 9.5min\n",
      "[CV] END ......................C=100, gamma=auto, kernel=rbf; total time= 1.0min\n",
      "[CV] END ......................C=100, gamma=auto, kernel=rbf; total time= 1.0min\n",
      "[CV] END ......................C=100, gamma=auto, kernel=rbf; total time= 1.1min\n",
      "[CV] END ......................C=100, gamma=auto, kernel=rbf; total time= 1.0min\n",
      "[CV] END ......................C=100, gamma=auto, kernel=rbf; total time= 1.1min\n",
      "[CV] END ..................C=100, gamma=auto, kernel=sigmoid; total time=  15.2s\n",
      "[CV] END ..................C=100, gamma=auto, kernel=sigmoid; total time=  15.3s\n",
      "[CV] END ..................C=100, gamma=auto, kernel=sigmoid; total time=  14.8s\n",
      "[CV] END ..................C=100, gamma=auto, kernel=sigmoid; total time=  14.4s\n",
      "[CV] END ..................C=100, gamma=auto, kernel=sigmoid; total time=  15.6s\n"
     ]
    },
    {
     "data": {
      "text/html": [
       "<style>#sk-container-id-1 {color: black;}#sk-container-id-1 pre{padding: 0;}#sk-container-id-1 div.sk-toggleable {background-color: white;}#sk-container-id-1 label.sk-toggleable__label {cursor: pointer;display: block;width: 100%;margin-bottom: 0;padding: 0.3em;box-sizing: border-box;text-align: center;}#sk-container-id-1 label.sk-toggleable__label-arrow:before {content: \"▸\";float: left;margin-right: 0.25em;color: #696969;}#sk-container-id-1 label.sk-toggleable__label-arrow:hover:before {color: black;}#sk-container-id-1 div.sk-estimator:hover label.sk-toggleable__label-arrow:before {color: black;}#sk-container-id-1 div.sk-toggleable__content {max-height: 0;max-width: 0;overflow: hidden;text-align: left;background-color: #f0f8ff;}#sk-container-id-1 div.sk-toggleable__content pre {margin: 0.2em;color: black;border-radius: 0.25em;background-color: #f0f8ff;}#sk-container-id-1 input.sk-toggleable__control:checked~div.sk-toggleable__content {max-height: 200px;max-width: 100%;overflow: auto;}#sk-container-id-1 input.sk-toggleable__control:checked~label.sk-toggleable__label-arrow:before {content: \"▾\";}#sk-container-id-1 div.sk-estimator input.sk-toggleable__control:checked~label.sk-toggleable__label {background-color: #d4ebff;}#sk-container-id-1 div.sk-label input.sk-toggleable__control:checked~label.sk-toggleable__label {background-color: #d4ebff;}#sk-container-id-1 input.sk-hidden--visually {border: 0;clip: rect(1px 1px 1px 1px);clip: rect(1px, 1px, 1px, 1px);height: 1px;margin: -1px;overflow: hidden;padding: 0;position: absolute;width: 1px;}#sk-container-id-1 div.sk-estimator {font-family: monospace;background-color: #f0f8ff;border: 1px dotted black;border-radius: 0.25em;box-sizing: border-box;margin-bottom: 0.5em;}#sk-container-id-1 div.sk-estimator:hover {background-color: #d4ebff;}#sk-container-id-1 div.sk-parallel-item::after {content: \"\";width: 100%;border-bottom: 1px solid gray;flex-grow: 1;}#sk-container-id-1 div.sk-label:hover label.sk-toggleable__label {background-color: #d4ebff;}#sk-container-id-1 div.sk-serial::before {content: \"\";position: absolute;border-left: 1px solid gray;box-sizing: border-box;top: 0;bottom: 0;left: 50%;z-index: 0;}#sk-container-id-1 div.sk-serial {display: flex;flex-direction: column;align-items: center;background-color: white;padding-right: 0.2em;padding-left: 0.2em;position: relative;}#sk-container-id-1 div.sk-item {position: relative;z-index: 1;}#sk-container-id-1 div.sk-parallel {display: flex;align-items: stretch;justify-content: center;background-color: white;position: relative;}#sk-container-id-1 div.sk-item::before, #sk-container-id-1 div.sk-parallel-item::before {content: \"\";position: absolute;border-left: 1px solid gray;box-sizing: border-box;top: 0;bottom: 0;left: 50%;z-index: -1;}#sk-container-id-1 div.sk-parallel-item {display: flex;flex-direction: column;z-index: 1;position: relative;background-color: white;}#sk-container-id-1 div.sk-parallel-item:first-child::after {align-self: flex-end;width: 50%;}#sk-container-id-1 div.sk-parallel-item:last-child::after {align-self: flex-start;width: 50%;}#sk-container-id-1 div.sk-parallel-item:only-child::after {width: 0;}#sk-container-id-1 div.sk-dashed-wrapped {border: 1px dashed gray;margin: 0 0.4em 0.5em 0.4em;box-sizing: border-box;padding-bottom: 0.4em;background-color: white;}#sk-container-id-1 div.sk-label label {font-family: monospace;font-weight: bold;display: inline-block;line-height: 1.2em;}#sk-container-id-1 div.sk-label-container {text-align: center;}#sk-container-id-1 div.sk-container {/* jupyter's `normalize.less` sets `[hidden] { display: none; }` but bootstrap.min.css set `[hidden] { display: none !important; }` so we also need the `!important` here to be able to override the default hidden behavior on the sphinx rendered scikit-learn.org. See: https://github.com/scikit-learn/scikit-learn/issues/21755 */display: inline-block !important;position: relative;}#sk-container-id-1 div.sk-text-repr-fallback {display: none;}</style><div id=\"sk-container-id-1\" class=\"sk-top-container\"><div class=\"sk-text-repr-fallback\"><pre>GridSearchCV(cv=5, estimator=SVR(),\n",
       "             param_grid={&#x27;C&#x27;: [0.1, 1, 10, 100], &#x27;gamma&#x27;: [&#x27;scale&#x27;, &#x27;auto&#x27;],\n",
       "                         &#x27;kernel&#x27;: [&#x27;linear&#x27;, &#x27;rbf&#x27;, &#x27;sigmoid&#x27;]},\n",
       "             scoring=&#x27;r2&#x27;, verbose=2)</pre><b>In a Jupyter environment, please rerun this cell to show the HTML representation or trust the notebook. <br />On GitHub, the HTML representation is unable to render, please try loading this page with nbviewer.org.</b></div><div class=\"sk-container\" hidden><div class=\"sk-item sk-dashed-wrapped\"><div class=\"sk-label-container\"><div class=\"sk-label sk-toggleable\"><input class=\"sk-toggleable__control sk-hidden--visually\" id=\"sk-estimator-id-1\" type=\"checkbox\" ><label for=\"sk-estimator-id-1\" class=\"sk-toggleable__label sk-toggleable__label-arrow\">GridSearchCV</label><div class=\"sk-toggleable__content\"><pre>GridSearchCV(cv=5, estimator=SVR(),\n",
       "             param_grid={&#x27;C&#x27;: [0.1, 1, 10, 100], &#x27;gamma&#x27;: [&#x27;scale&#x27;, &#x27;auto&#x27;],\n",
       "                         &#x27;kernel&#x27;: [&#x27;linear&#x27;, &#x27;rbf&#x27;, &#x27;sigmoid&#x27;]},\n",
       "             scoring=&#x27;r2&#x27;, verbose=2)</pre></div></div></div><div class=\"sk-parallel\"><div class=\"sk-parallel-item\"><div class=\"sk-item\"><div class=\"sk-label-container\"><div class=\"sk-label sk-toggleable\"><input class=\"sk-toggleable__control sk-hidden--visually\" id=\"sk-estimator-id-2\" type=\"checkbox\" ><label for=\"sk-estimator-id-2\" class=\"sk-toggleable__label sk-toggleable__label-arrow\">estimator: SVR</label><div class=\"sk-toggleable__content\"><pre>SVR()</pre></div></div></div><div class=\"sk-serial\"><div class=\"sk-item\"><div class=\"sk-estimator sk-toggleable\"><input class=\"sk-toggleable__control sk-hidden--visually\" id=\"sk-estimator-id-3\" type=\"checkbox\" ><label for=\"sk-estimator-id-3\" class=\"sk-toggleable__label sk-toggleable__label-arrow\">SVR</label><div class=\"sk-toggleable__content\"><pre>SVR()</pre></div></div></div></div></div></div></div></div></div></div>"
      ],
      "text/plain": [
       "GridSearchCV(cv=5, estimator=SVR(),\n",
       "             param_grid={'C': [0.1, 1, 10, 100], 'gamma': ['scale', 'auto'],\n",
       "                         'kernel': ['linear', 'rbf', 'sigmoid']},\n",
       "             scoring='r2', verbose=2)"
      ]
     },
     "execution_count": 8,
     "metadata": {},
     "output_type": "execute_result"
    }
   ],
   "source": [
    "param_grid = {\n",
    "    'kernel': ['linear', 'rbf', 'sigmoid'],\n",
    "    'C': [0.1, 1, 10, 100],\n",
    "    'gamma': ['scale', 'auto']\n",
    "}\n",
    "\n",
    "grid_search = GridSearchCV(SVR(), param_grid, cv=5, scoring='r2', verbose=2)\n",
    "grid_search.fit(X_train, y_train)"
   ]
  },
  {
   "cell_type": "markdown",
   "id": "d330e775-2414-4c90-a209-f2e4e24d1604",
   "metadata": {},
   "source": [
    "### Best parameters and best score"
   ]
  },
  {
   "cell_type": "code",
   "execution_count": 9,
   "id": "8c092abb-6810-49f5-bc45-abf936720653",
   "metadata": {
    "collapsed": true,
    "jupyter": {
     "outputs_hidden": true,
     "source_hidden": true
    }
   },
   "outputs": [
    {
     "name": "stdout",
     "output_type": "stream",
     "text": [
      "Best Hyperparameters for SVM: {'C': 100, 'gamma': 'auto', 'kernel': 'rbf'}\n",
      "Best Cross-Validation R2 Score: 0.7620\n"
     ]
    }
   ],
   "source": [
    "best_params = grid_search.best_params_\n",
    "best_score = grid_search.best_score_\n",
    "\n",
    "print(f\"Best Hyperparameters for SVM: {best_params}\")\n",
    "print(f\"Best Cross-Validation R2 Score: {best_score:.4f}\")"
   ]
  },
  {
   "cell_type": "markdown",
   "id": "ab4b9806-41d1-42c1-9036-d2ae7d3f2b27",
   "metadata": {},
   "source": [
    "### Evaluate the tuned model on the test set"
   ]
  },
  {
   "cell_type": "code",
   "execution_count": 10,
   "id": "235eb8fd-a117-4c12-8ca2-5df79ba6be24",
   "metadata": {
    "collapsed": true,
    "jupyter": {
     "outputs_hidden": true,
     "source_hidden": true
    }
   },
   "outputs": [
    {
     "name": "stdout",
     "output_type": "stream",
     "text": [
      "Tuned SVM - Final MSE: 0.3201, Final R2 Score: 0.9257\n"
     ]
    }
   ],
   "source": [
    "best_svm = grid_search.best_estimator_\n",
    "y_pred = best_svm.predict(X_test)\n",
    "final_mse = mean_squared_error(y_test, y_pred)\n",
    "final_r2 = r2_score(y_test, y_pred)\n",
    "\n",
    "print(f\"Tuned SVM - Final MSE: {final_mse:.4f}, Final R2 Score: {final_r2:.4f}\")"
   ]
  },
  {
   "cell_type": "markdown",
   "id": "00976fab-b799-4f19-bae6-41cf1aa29bd4",
   "metadata": {},
   "source": [
    "### Accuracy"
   ]
  },
  {
   "cell_type": "code",
   "execution_count": 11,
   "id": "3cd0a268-0281-459d-86b4-5c4681a165e7",
   "metadata": {
    "collapsed": true,
    "jupyter": {
     "outputs_hidden": true,
     "source_hidden": true
    }
   },
   "outputs": [
    {
     "name": "stdout",
     "output_type": "stream",
     "text": [
      "Final accuracy of the tuned model: 92.57%\n"
     ]
    }
   ],
   "source": [
    "accuracy = final_r2 * 100\n",
    "print(f\"Final accuracy of the tuned model: {accuracy:.2f}%\")"
   ]
  }
 ],
 "metadata": {
  "kernelspec": {
   "display_name": "Python 3 (ipykernel)",
   "language": "python",
   "name": "python3"
  },
  "language_info": {
   "codemirror_mode": {
    "name": "ipython",
    "version": 3
   },
   "file_extension": ".py",
   "mimetype": "text/x-python",
   "name": "python",
   "nbconvert_exporter": "python",
   "pygments_lexer": "ipython3",
   "version": "3.9.7"
  }
 },
 "nbformat": 4,
 "nbformat_minor": 5
}
